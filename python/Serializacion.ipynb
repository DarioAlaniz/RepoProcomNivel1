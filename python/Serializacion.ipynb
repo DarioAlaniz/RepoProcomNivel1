{
 "cells": [
  {
   "cell_type": "code",
   "execution_count": 1,
   "source": [
    "import numpy as np\r\n",
    "import matplotlib.pyplot as pl\r\n",
    "#%matplotlib qt5\r\n",
    "from tool._fixedInt import *"
   ],
   "outputs": [],
   "metadata": {}
  },
  {
   "cell_type": "code",
   "execution_count": 2,
   "source": [
    "def rcosine(beta, Tbaud, oversampling, Nbauds, Norm):\r\n",
    "    \"\"\" Respuesta al impulso del pulso de caida cosenoidal \"\"\"\r\n",
    "    t_vect = np.arange(-0.5*Nbauds*Tbaud, 0.5*Nbauds*Tbaud, \r\n",
    "                       float(Tbaud)/oversampling) #limitacion de la respuesta al impulso\r\n",
    "\r\n",
    "    y_vect = [] \r\n",
    "    #generacion del conseno realsado\r\n",
    "    for t in t_vect:\r\n",
    "        y_vect.append(np.sinc(t/Tbaud)*(np.cos(np.pi*beta*t/Tbaud)/    \r\n",
    "                                        (1-(4.0*beta*beta*t*t/\r\n",
    "                                            (Tbaud*Tbaud)))))\r\n",
    "\r\n",
    "    y_vect = np.array(y_vect)\r\n",
    "\r\n",
    "    if(Norm):\r\n",
    "        return (t_vect, y_vect/np.sqrt(np.sum(y_vect**2)))\r\n",
    "        #return (t_vect, y_vect/y_vect.sum())\r\n",
    "    else:\r\n",
    "        return (t_vect,y_vect)"
   ],
   "outputs": [],
   "metadata": {}
  },
  {
   "cell_type": "code",
   "execution_count": 3,
   "source": [
    "## Parametros generales\r\n",
    "Baud  = 1.0e9           # baudrate \r\n",
    "T     = (1.0/Baud)     # Periodo de baudio\r\n",
    "Nsymb = 100             # Numero de simbolos\r\n",
    "os    = 4               # Factor de sobre muestreo(oversampling), cantidad de muestras por periodo para representar el coseno \r\n",
    "\r\n",
    "## Parametros de la respuesta en frecuencia\r\n",
    "Nfreqs = 256            # Cantidad de frecuencias\r\n",
    "\r\n",
    "## Parametros del filtro de caida cosenoidal\r\n",
    "beta   = [0.0,0.5,1.0]  # Roll-Off\r\n",
    "Nbauds = 6.0           # Cantidad de baudios del filtro(largo de la respuesta al impulso)\r\n",
    "## Parametros funcionales\r\n",
    "Ts = T/os               # Frecuencia de muestreo "
   ],
   "outputs": [],
   "metadata": {}
  },
  {
   "cell_type": "code",
   "execution_count": 4,
   "source": [
    "(t,h) = rcosine(beta[1], T,os,Nbauds,Norm=False)"
   ],
   "outputs": [],
   "metadata": {}
  },
  {
   "cell_type": "code",
   "execution_count": 8,
   "source": [
    "#cuantificacion #S(8,7) round\r\n",
    "NB=8\r\n",
    "NBF=7\r\n",
    "Mode='round'\r\n",
    "h_PF= arrayFixedInt(NB,NBF,h,signedMode='S',roundMode='round',saturateMode='saturate')\r\n",
    "h_intValue = np.zeros((int(os),int(Nbauds))) ##valores a para el filtro en verilog\r\n",
    "h_fValue   = np.zeros((int(os),int(Nbauds)))   ##valores para trabajar en python\r\n",
    "a=[] #coeficientes\r\n",
    "b=[]\r\n",
    "for i in range(len(h_PF)):\r\n",
    "    a.append(h_PF[i].intvalue)\r\n",
    "    b.append(h_PF[i].fValue)\r\n",
    "for i in range(int(os)):\r\n",
    "    h_intValue[i]=a[i::int(os)]\r\n",
    "    h_fValue[i]=b[i::int(os)]\r\n",
    "print(h_intValue)\r\n",
    "print(h_fValue)\r\n",
    "x=np.array([0,0,0,0,0])\r\n",
    "#print(h_PF[0].showValueRange())\r\n",
    "# print(bin(129))\r\n",
    "# print(bin(127))"
   ],
   "outputs": [
    {
     "output_type": "stream",
     "name": "stdout",
     "text": [
      "[[  0.   0.   0. 127.   0.   0.]\n",
      " [  1. 249.  34. 114. 240.   3.]\n",
      " [  2. 241.  77.  77. 241.   2.]\n",
      " [  3. 240. 114.  34. 249.   1.]]\n",
      "[[ 0.         0.         0.         0.9921875  0.         0.       ]\n",
      " [ 0.0078125 -0.0546875  0.265625   0.890625  -0.125      0.0234375]\n",
      " [ 0.015625  -0.1171875  0.6015625  0.6015625 -0.1171875  0.015625 ]\n",
      " [ 0.0234375 -0.125      0.890625   0.265625  -0.0546875  0.0078125]]\n"
     ]
    }
   ],
   "metadata": {
    "tags": []
   }
  },
  {
   "cell_type": "code",
   "execution_count": 9,
   "source": [
    "#-------------parametros PRBS\r\n",
    "PRBS_I=np.array([1,1,0,1,0,1,0,1,0]) #0x1AA Semilla\r\n",
    "PRBS_Q=np.array([1,1,1,1,1,1,1,1,0]) #0x1FE semilla\r\n",
    "Nsym=((2**len(PRBS_I))-1)**2 + 1000 #cantidad de simbolos a transmitir, necesito bastante simbolos por que en el checker necesito contar 511\r\n",
    "s=[]                                #convinaciones posibles por 511 valores mas los simboles que transmito para contar BER\r\n",
    "#-------------parametros fir polifasico\r\n",
    "output_fir_I=np.zeros(int(os)) #para las 4 salidas del fir polifasico\r\n",
    "output_fir_Q=np.zeros(int(os))\r\n",
    "reg_I=np.zeros(len(h_fValue[0])-1) #registro para el filtro fir\r\n",
    "reg_Q=np.zeros(len(h_fValue[0])-1)\r\n",
    "output_I=[]         #salida del filtro\r\n",
    "output_Q=[]\r\n",
    "output_conv=[]      #para corroborar con la salida del filtro\r\n",
    "i_enb_tx=[]\r\n",
    "#-------------parametros de PRBS checker\r\n",
    "Phase=0 #por cada fase elejida se resetar el checker y busca otra vez la latencia\r\n",
    "PRBS_errors_min=511\r\n",
    "PRBS_index_min=0\r\n",
    "prbs_errors_count=0\r\n",
    "PRBS_pos=0 # para ir cambiando la posicion cuando el erro no es cero, selector del mux en verilog\r\n",
    "filter_delay=(len(a)/2/os) #lantencia de 12 pero al estar dividido en 4 fases seria de 3, en rtl hacer un reset mas tarde.\r\n",
    "PRBS_checker_reg_I = np.zeros(int(2**len(PRBS_I))-1) #resgistro para ir guardando los simbolos entrante\r\n",
    "PRBS_checker_reg_Q = np.zeros(int(2**len(PRBS_Q))-1)\r\n",
    "PRBS_checker_count =0 #para llevar la cuenta y comprar con los 511 valores de la PRBS \r\n",
    "PRBS_checker_locked =False #para decir que recorri 511 valores en 511 posiciones posibles y obtener la latencia\r\n",
    "errors_count_I=0\r\n",
    "errors_count_Q=0\r\n",
    "bits_count_I =0\r\n",
    "bits_count_Q =0\r\n",
    "#-------------PRBS----------\r\n",
    "# descomentar hace falta la alinear la latencia del verilog con la salida de python\r\n",
    "for a in range(50):             #espero 50 unidad de tiempo para luego habilitar el filtro junto con la PRBS\r\n",
    "    i_enb_tx.append(0)\r\n",
    "    output_I.append(0)\r\n",
    "    output_Q.append(0)\r\n",
    "for r in range(6):\r\n",
    "    output_I.append(0)\r\n",
    "    output_Q.append(0)\r\n",
    "for i in range(Nsym):\r\n",
    "    i_enb_tx.append(1)          #habilito la PRBS y el filtro en verilog DESCOMENTAR!!!!!\r\n",
    "    aux= PRBS_I[0]^PRBS_I[4]\r\n",
    "    PRBS_I = np.roll(PRBS_I,-1)\r\n",
    "    PRBS_I[8] = aux\r\n",
    "    #PRBS_I[0] simbolo que se transmite\r\n",
    "    #s.append(PRBS_I[0]) #para verificacion del filtro FIR\r\n",
    "    #s.extend([0]*3)  \r\n",
    "    aux1= PRBS_Q[0]^PRBS_Q[4]\r\n",
    "    PRBS_Q = np.roll(PRBS_Q,-1)\r\n",
    "    PRBS_Q[8] = aux1\r\n",
    "    #PRBS_Q[0] simbolo que se transmite\r\n",
    "    #convierto para poder realizar la convolucion\r\n",
    "    sim_I =  1 if PRBS_I[0]==0 else -1\r\n",
    "    sim_Q =  1 if PRBS_Q[0]==0 else -1     \r\n",
    "#------------filtro poli--------------\r\n",
    "    for e in range(int(os)):\r\n",
    "        output_fir_I[e]=sim_I*h_fValue[e][0]+np.dot(reg_I,h_fValue[e][1:]) \r\n",
    "        output_I.append(output_fir_I[e]) #salida del filtro FIR\r\n",
    "        output_fir_Q[e]=sim_Q*h_fValue[e][0]+np.dot(reg_Q,h_fValue[e][1:])\r\n",
    "        output_Q.append(output_fir_Q[e]) #salida del filtro FIR\r\n",
    "    reg_I=np.roll(reg_I,1)\r\n",
    "    reg_Q=np.roll(reg_Q,1)\r\n",
    "    reg_I[0] = sim_I\r\n",
    "    reg_Q[0] = sim_Q\r\n",
    "#------------ dowslampling y slicer para el PRBS_checker-----------\r\n",
    "    bit_I = 1 if output_fir_I[Phase] <=0 else 0\r\n",
    "    bit_Q = 1 if output_fir_Q[Phase] <=0 else 0\r\n",
    "#----------PRBS_checker-------------\r\n",
    "    if i >= filter_delay: #descarto las muestras que no son validad\r\n",
    "        #hago un shiftreg con la PRBS para ir comparando con los bit trasmitido y encontrar la latencia\r\n",
    "        PRBS_checker_reg_I = np.roll(PRBS_checker_reg_I,1) #resgistro de desplazamiento\r\n",
    "        PRBS_checker_reg_I[0] = PRBS_I[0]\r\n",
    "        PRBS_checker_reg_Q = np.roll(PRBS_checker_reg_Q,1) #resgistro de desplazamiento\r\n",
    "        PRBS_checker_reg_Q[0] = PRBS_Q[0]\r\n",
    "\r\n",
    "        if not PRBS_checker_locked:\r\n",
    "            prbs_errors_count += (bit_I ^ int(PRBS_checker_reg_I[PRBS_pos])) #cuenta los errores\r\n",
    "            if PRBS_checker_count == (2**(len(PRBS_I))-2):  #cuento hasta 510 antes que se vuelva a repetir la secuencia de la PRBS\r\n",
    "                PRBS_checker_count = 0\r\n",
    "                if (prbs_errors_count < PRBS_errors_min):  #compruebo si el error contado es menor a un error min y guardo\r\n",
    "                    PRBS_errors_min = prbs_errors_count\r\n",
    "                    PRBS_index_min = PRBS_pos\r\n",
    "                if (PRBS_pos == (2**len(PRBS_I))-2):#cuando ya recorri 511 valores en 511 posiciones posibles bloqueo el checker\r\n",
    "                    PRBS_checker_locked = True\r\n",
    "                    print('checker locked in index =',PRBS_index_min)\r\n",
    "                    #print(i)\r\n",
    "                    #print(PRBS_pos)\r\n",
    "                else:\r\n",
    "                    PRBS_pos +=1\r\n",
    "                prbs_errors_count=0\r\n",
    "            else:\r\n",
    "                PRBS_checker_count += 1\r\n",
    "        else:\r\n",
    "            errors_count_I += (bit_I ^ int(PRBS_checker_reg_I[PRBS_index_min])) #para contar errores con la latencia ya fija\r\n",
    "            errors_count_Q += (bit_Q ^ int(PRBS_checker_reg_Q[PRBS_index_min])) \r\n",
    "            bits_count_I +=1\r\n",
    "            bits_count_Q +=1\r\n",
    "    \r\n",
    "print('error de bits canal I:',errors_count_I)\r\n",
    "print('cantidad de bits enviados canal I:',bits_count_I)\r\n",
    "\r\n",
    "#output_conv=np.convolve(h,d)\r\n",
    "# pl.figure(figsize=[14,7])\r\n",
    "# pl.subplot(2,1,1)\r\n",
    "# pl.plot(output_I,'r')\r\n",
    "# #pl.plot(output_conv)\r\n",
    "# pl.grid(True)\r\n",
    "# pl.legend()\r\n",
    "# pl.xlim(0,1000)\r\n",
    "\r\n",
    "# pl.subplot(2,1,2)\r\n",
    "# #pl.stem(s,use_line_collection=True)\r\n",
    "# pl.plot(output_Q,'r')\r\n",
    "# pl.grid(True)\r\n",
    "# pl.legend()\r\n",
    "# pl.xlim(0,1000)"
   ],
   "outputs": [
    {
     "output_type": "stream",
     "name": "stdout",
     "text": [
      "checker locked in index = 3\n",
      "error de bits canal I: 0\n",
      "cantidad de bits enviados canal I: 997\n"
     ]
    }
   ],
   "metadata": {
    "tags": []
   }
  },
  {
   "cell_type": "code",
   "execution_count": 18,
   "source": [
    "o_pf_I= arrayFixedInt(11,7,output_I,signedMode='S',roundMode='round',saturateMode='saturate')\n",
    "o_pf_I_v=[]\n",
    "o_pf_Q= arrayFixedInt(11,7,output_Q,signedMode='S',roundMode='round',saturateMode='saturate')\n",
    "o_pf_Q_v=[]\n",
    "for i in range(len(o_pf_I)):\n",
    "    o_pf_I_v.append(o_pf_I[i].intvalue)\n",
    "    o_pf_Q_v.append(o_pf_Q[i].intvalue)\n",
    "file0 = open('./filtro/fir_I.out','w')\n",
    "file1 = open('./filtro/fir_Q.out','w')\n",
    "\n",
    "for e in range(len(o_pf_I_v)):\n",
    "    file0.write('%d\\n'%o_pf_I_v[e])\n",
    "    file1.write('%d\\n'%o_pf_Q_v[e])\n",
    "file0.close()\n",
    "file1.close()\n",
    "\n",
    "file2 = open('./filtro/i_enb_tx.out','w')\n",
    "for q in range(len(i_enb_tx)):\n",
    "    file2.write('%d\\n'%i_enb_tx[q])\n",
    "file2.close()"
   ],
   "outputs": [],
   "metadata": {
    "tags": []
   }
  },
  {
   "cell_type": "code",
   "execution_count": 23,
   "source": [
    "file2_copia = open('./filtro/i_enb_tx.out','r')\n",
    "i_enb_tx_copia = file2_copia.read()\n",
    "print(len(i_enb_tx))\n",
    "print(len(i_enb_tx_copia))\n",
    "file2_copia.close()"
   ],
   "outputs": [
    {
     "output_type": "stream",
     "name": "stdout",
     "text": [
      "262171\n",
      "524342\n"
     ]
    }
   ],
   "metadata": {
    "tags": []
   }
  },
  {
   "cell_type": "code",
   "execution_count": 22,
   "source": [
    "print(len(i_enb_tx))"
   ],
   "outputs": [
    {
     "output_type": "stream",
     "name": "stdout",
     "text": [
      "262171\n"
     ]
    }
   ],
   "metadata": {
    "tags": []
   }
  },
  {
   "cell_type": "code",
   "execution_count": null,
   "source": [],
   "outputs": [],
   "metadata": {}
  }
 ],
 "metadata": {
  "kernelspec": {
   "display_name": "Python 3.8.2 64-bit",
   "language": "python",
   "name": "python_defaultSpec_1600394181454"
  },
  "language_info": {
   "codemirror_mode": {
    "name": "ipython",
    "version": 3
   },
   "file_extension": ".py",
   "mimetype": "text/x-python",
   "name": "python",
   "nbconvert_exporter": "python",
   "pygments_lexer": "ipython3",
   "version": "3.8.2-final"
  }
 },
 "nbformat": 4,
 "nbformat_minor": 4
}